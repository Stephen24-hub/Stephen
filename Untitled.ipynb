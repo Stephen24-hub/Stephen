{
 "cells": [
  {
   "cell_type": "code",
   "execution_count": null,
   "id": "4334a051-39b8-4e59-b4d9-4ed200f591a9",
   "metadata": {},
   "outputs": [],
   "source": [
    "jkj"
   ]
  }
 ],
 "metadata": {
  "kernelspec": {
   "display_name": "Python 3 (ipykernel)",
   "language": "python",
   "name": "python3"
  },
  "language_info": {
   "codemirror_mode": {
    "name": "ipython",
    "version": 3
   },
   "file_extension": ".py",
   "mimetype": "text/x-python",
   "name": "python",
   "nbconvert_exporter": "python",
   "pygments_lexer": "ipython3",
   "version": "3.12.4"
  }
 },
 "nbformat": 4,
 "nbformat_minor": 5
}
